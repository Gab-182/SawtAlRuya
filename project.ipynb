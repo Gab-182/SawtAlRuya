{
 "cells": [
  {
   "cell_type": "code",
   "execution_count": 6,
   "metadata": {},
   "outputs": [
    {
     "ename": "ModuleNotFoundError",
     "evalue": "No module named 'transformers'",
     "output_type": "error",
     "traceback": [
      "\u001b[0;31m---------------------------------------------------------------------------\u001b[0m",
      "\u001b[0;31mModuleNotFoundError\u001b[0m                       Traceback (most recent call last)",
      "\u001b[1;32m/Users/ghaiathabdoush/Desktop/ML_Hackathon/SawtAlRuya/project.ipynb Cell 1\u001b[0m line \u001b[0;36m1\n\u001b[0;32m----> <a href='vscode-notebook-cell:/Users/ghaiathabdoush/Desktop/ML_Hackathon/SawtAlRuya/project.ipynb#W0sZmlsZQ%3D%3D?line=0'>1</a>\u001b[0m \u001b[39mfrom\u001b[39;00m \u001b[39mtransformers\u001b[39;00m \u001b[39mimport\u001b[39;00m pipeline\n\u001b[1;32m      <a href='vscode-notebook-cell:/Users/ghaiathabdoush/Desktop/ML_Hackathon/SawtAlRuya/project.ipynb#W0sZmlsZQ%3D%3D?line=1'>2</a>\u001b[0m \u001b[39mfrom\u001b[39;00m \u001b[39mflask\u001b[39;00m \u001b[39mimport\u001b[39;00m Flask, render_template\n\u001b[1;32m      <a href='vscode-notebook-cell:/Users/ghaiathabdoush/Desktop/ML_Hackathon/SawtAlRuya/project.ipynb#W0sZmlsZQ%3D%3D?line=2'>3</a>\u001b[0m \u001b[39mfrom\u001b[39;00m \u001b[39mflask_socketio\u001b[39;00m \u001b[39mimport\u001b[39;00m SocketIO\n",
      "\u001b[0;31mModuleNotFoundError\u001b[0m: No module named 'transformers'"
     ]
    }
   ],
   "source": [
    "from transformers import pipeline\n",
    "from flask import Flask, render_template\n",
    "from flask_socketio import SocketIO\n",
    "import cv2\n",
    "from base64 import b64encode\n",
    "import time\n",
    "import os"
   ]
  },
  {
   "cell_type": "code",
   "execution_count": null,
   "metadata": {},
   "outputs": [],
   "source": [
    "# Load the image captioning model\n",
    "captioner = pipeline(\"image-to-text\", model=\"Salesforce/blip-image-captioning-base\")"
   ]
  },
  {
   "cell_type": "code",
   "execution_count": 10,
   "metadata": {},
   "outputs": [],
   "source": [
    "def generate_frames():\n",
    "    folder_path = 'image_folder'\n",
    "    \n",
    "    # Create the folder if it doesn't exist\n",
    "    if not os.path.exists(folder_path):\n",
    "        os.makedirs(folder_path)\n",
    "\n",
    "    camera = cv2.VideoCapture(0)\n",
    "    \n",
    "    while camera.isOpened():\n",
    "        success, frame = camera.read()\n",
    "        if success:\n",
    "                image_filename = os.path.join(folder_path, f'frame_{time.time()}.jpg')\n",
    "                cv2.imwrite(image_filename, frame)\n",
    "\n",
    "\n",
    "                # Provide the path to a local image file\n",
    "                image_path = \"street.jpeg\"  # Replace with the actual path to your image file\n",
    "\n",
    "                # Perform image captioning\n",
    "                captions = captioner(image_path)\n",
    "\n",
    "                print(captions)\n",
    "\n",
    "\n",
    "\n",
    "            # Capture one image per second\n",
    "            time.sleep(1)\n",
    "\n",
    "    camera.release()\n",
    "    cv2.destroyAllWindows()"
   ]
  },
  {
   "cell_type": "code",
   "execution_count": 11,
   "metadata": {},
   "outputs": [
    {
     "ename": "KeyboardInterrupt",
     "evalue": "",
     "output_type": "error",
     "traceback": [
      "\u001b[0;31m---------------------------------------------------------------------------\u001b[0m",
      "\u001b[0;31mKeyboardInterrupt\u001b[0m                         Traceback (most recent call last)",
      "\u001b[1;32m/Users/ghaiathabdoush/Desktop/ML_Hackathon/SawtAlRuya/project.ipynb Cell 3\u001b[0m line \u001b[0;36m1\n\u001b[0;32m----> <a href='vscode-notebook-cell:/Users/ghaiathabdoush/Desktop/ML_Hackathon/SawtAlRuya/project.ipynb#W2sZmlsZQ%3D%3D?line=0'>1</a>\u001b[0m generate_frames()\n",
      "\u001b[1;32m/Users/ghaiathabdoush/Desktop/ML_Hackathon/SawtAlRuya/project.ipynb Cell 3\u001b[0m line \u001b[0;36m1\n\u001b[1;32m     <a href='vscode-notebook-cell:/Users/ghaiathabdoush/Desktop/ML_Hackathon/SawtAlRuya/project.ipynb#W2sZmlsZQ%3D%3D?line=13'>14</a>\u001b[0m         cv2\u001b[39m.\u001b[39mimwrite(image_filename, frame)\n\u001b[1;32m     <a href='vscode-notebook-cell:/Users/ghaiathabdoush/Desktop/ML_Hackathon/SawtAlRuya/project.ipynb#W2sZmlsZQ%3D%3D?line=15'>16</a>\u001b[0m         \u001b[39m# Capture one image per second\u001b[39;00m\n\u001b[0;32m---> <a href='vscode-notebook-cell:/Users/ghaiathabdoush/Desktop/ML_Hackathon/SawtAlRuya/project.ipynb#W2sZmlsZQ%3D%3D?line=16'>17</a>\u001b[0m         time\u001b[39m.\u001b[39;49msleep(\u001b[39m1\u001b[39;49m)\n\u001b[1;32m     <a href='vscode-notebook-cell:/Users/ghaiathabdoush/Desktop/ML_Hackathon/SawtAlRuya/project.ipynb#W2sZmlsZQ%3D%3D?line=18'>19</a>\u001b[0m camera\u001b[39m.\u001b[39mrelease()\n\u001b[1;32m     <a href='vscode-notebook-cell:/Users/ghaiathabdoush/Desktop/ML_Hackathon/SawtAlRuya/project.ipynb#W2sZmlsZQ%3D%3D?line=19'>20</a>\u001b[0m cv2\u001b[39m.\u001b[39mdestroyAllWindows()\n",
      "\u001b[0;31mKeyboardInterrupt\u001b[0m: "
     ]
    }
   ],
   "source": [
    "generate_frames()"
   ]
  }
 ],
 "metadata": {
  "kernelspec": {
   "display_name": "ML",
   "language": "python",
   "name": "python3"
  },
  "language_info": {
   "codemirror_mode": {
    "name": "ipython",
    "version": 3
   },
   "file_extension": ".py",
   "mimetype": "text/x-python",
   "name": "python",
   "nbconvert_exporter": "python",
   "pygments_lexer": "ipython3",
   "version": "3.8.17"
  },
  "orig_nbformat": 4
 },
 "nbformat": 4,
 "nbformat_minor": 2
}
